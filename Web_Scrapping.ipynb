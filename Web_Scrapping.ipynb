{
  "nbformat": 4,
  "nbformat_minor": 0,
  "metadata": {
    "colab": {
      "provenance": [],
      "include_colab_link": true
    },
    "kernelspec": {
      "name": "python3",
      "display_name": "Python 3"
    },
    "language_info": {
      "name": "python"
    }
  },
  "cells": [
    {
      "cell_type": "markdown",
      "metadata": {
        "id": "view-in-github",
        "colab_type": "text"
      },
      "source": [
        "<a href=\"https://colab.research.google.com/github/20481A5450/20481A5450/blob/main/Web_Scrapping.ipynb\" target=\"_parent\"><img src=\"https://colab.research.google.com/assets/colab-badge.svg\" alt=\"Open In Colab\"/></a>"
      ]
    },
    {
      "cell_type": "code",
      "source": [
        "# Install necessary packages in the current Jupyter kernel\n",
        "!pip install selenium webdriver-manager\n",
        "\n",
        "import time\n",
        "import csv\n",
        "from selenium import webdriver\n",
        "from selenium.webdriver.common.by import By\n",
        "from selenium.webdriver.chrome.service import Service\n",
        "from selenium.webdriver.chrome.options import Options\n",
        "from selenium.webdriver.support.ui import WebDriverWait\n",
        "from selenium.webdriver.support import expected_conditions as EC\n",
        "from webdriver_manager.chrome import ChromeDriverManager"
      ],
      "metadata": {
        "colab": {
          "base_uri": "https://localhost:8080/"
        },
        "id": "5nNZH0kV1Q1f",
        "outputId": "6ebd3a42-4fe9-4184-96a5-d8be4d840af2"
      },
      "execution_count": 1,
      "outputs": [
        {
          "output_type": "stream",
          "name": "stdout",
          "text": [
            "Collecting selenium\n",
            "  Downloading selenium-4.15.2-py3-none-any.whl (10.2 MB)\n",
            "\u001b[2K     \u001b[90m━━━━━━━━━━━━━━━━━━━━━━━━━━━━━━━━━━━━━━━━\u001b[0m \u001b[32m10.2/10.2 MB\u001b[0m \u001b[31m51.3 MB/s\u001b[0m eta \u001b[36m0:00:00\u001b[0m\n",
            "\u001b[?25hCollecting webdriver-manager\n",
            "  Downloading webdriver_manager-4.0.1-py2.py3-none-any.whl (27 kB)\n",
            "Requirement already satisfied: urllib3[socks]<3,>=1.26 in /usr/local/lib/python3.10/dist-packages (from selenium) (2.0.7)\n",
            "Collecting trio~=0.17 (from selenium)\n",
            "  Downloading trio-0.23.1-py3-none-any.whl (448 kB)\n",
            "\u001b[2K     \u001b[90m━━━━━━━━━━━━━━━━━━━━━━━━━━━━━━━━━━━━━━━━\u001b[0m \u001b[32m448.3/448.3 kB\u001b[0m \u001b[31m44.7 MB/s\u001b[0m eta \u001b[36m0:00:00\u001b[0m\n",
            "\u001b[?25hCollecting trio-websocket~=0.9 (from selenium)\n",
            "  Downloading trio_websocket-0.11.1-py3-none-any.whl (17 kB)\n",
            "Requirement already satisfied: certifi>=2021.10.8 in /usr/local/lib/python3.10/dist-packages (from selenium) (2023.7.22)\n",
            "Requirement already satisfied: requests in /usr/local/lib/python3.10/dist-packages (from webdriver-manager) (2.31.0)\n",
            "Collecting python-dotenv (from webdriver-manager)\n",
            "  Downloading python_dotenv-1.0.0-py3-none-any.whl (19 kB)\n",
            "Requirement already satisfied: packaging in /usr/local/lib/python3.10/dist-packages (from webdriver-manager) (23.2)\n",
            "Requirement already satisfied: attrs>=20.1.0 in /usr/local/lib/python3.10/dist-packages (from trio~=0.17->selenium) (23.1.0)\n",
            "Requirement already satisfied: sortedcontainers in /usr/local/lib/python3.10/dist-packages (from trio~=0.17->selenium) (2.4.0)\n",
            "Requirement already satisfied: idna in /usr/local/lib/python3.10/dist-packages (from trio~=0.17->selenium) (3.4)\n",
            "Collecting outcome (from trio~=0.17->selenium)\n",
            "  Downloading outcome-1.3.0.post0-py2.py3-none-any.whl (10 kB)\n",
            "Requirement already satisfied: sniffio>=1.3.0 in /usr/local/lib/python3.10/dist-packages (from trio~=0.17->selenium) (1.3.0)\n",
            "Requirement already satisfied: exceptiongroup>=1.0.0rc9 in /usr/local/lib/python3.10/dist-packages (from trio~=0.17->selenium) (1.1.3)\n",
            "Collecting wsproto>=0.14 (from trio-websocket~=0.9->selenium)\n",
            "  Downloading wsproto-1.2.0-py3-none-any.whl (24 kB)\n",
            "Requirement already satisfied: pysocks!=1.5.7,<2.0,>=1.5.6 in /usr/local/lib/python3.10/dist-packages (from urllib3[socks]<3,>=1.26->selenium) (1.7.1)\n",
            "Requirement already satisfied: charset-normalizer<4,>=2 in /usr/local/lib/python3.10/dist-packages (from requests->webdriver-manager) (3.3.1)\n",
            "Collecting h11<1,>=0.9.0 (from wsproto>=0.14->trio-websocket~=0.9->selenium)\n",
            "  Downloading h11-0.14.0-py3-none-any.whl (58 kB)\n",
            "\u001b[2K     \u001b[90m━━━━━━━━━━━━━━━━━━━━━━━━━━━━━━━━━━━━━━━━\u001b[0m \u001b[32m58.3/58.3 kB\u001b[0m \u001b[31m7.9 MB/s\u001b[0m eta \u001b[36m0:00:00\u001b[0m\n",
            "\u001b[?25hInstalling collected packages: python-dotenv, outcome, h11, wsproto, webdriver-manager, trio, trio-websocket, selenium\n",
            "Successfully installed h11-0.14.0 outcome-1.3.0.post0 python-dotenv-1.0.0 selenium-4.15.2 trio-0.23.1 trio-websocket-0.11.1 webdriver-manager-4.0.1 wsproto-1.2.0\n"
          ]
        }
      ]
    },
    {
      "cell_type": "code",
      "source": [
        "from selenium import webdriver\n",
        "from selenium.webdriver.common.by import By\n",
        "from selenium.webdriver.support.ui import WebDriverWait\n",
        "from selenium.webdriver.support import expected_conditions as EC\n",
        "from selenium.webdriver.chrome.service import Service\n",
        "from webdriver_manager.chrome import ChromeDriverManager\n",
        "import csv\n",
        "import time\n",
        "\n",
        "options = webdriver.ChromeOptions()\n",
        "options.add_argument('--headless')\n",
        "options.add_argument('--no-sandbox')\n",
        "options.add_argument('--disable-dev-shm-usage')\n",
        "\n",
        "# Start the driver with the configured options\n",
        "driver = webdriver.Chrome(options=options)\n",
        "\n",
        "linkedin_url = 'https://www.linkedin.com/jobs/data-science-jobs?position=1&pageNum=0'\n",
        "driver.get(linkedin_url)\n",
        "time.sleep(5)\n",
        "\n",
        "job_data = []\n",
        "try:\n",
        "    wait = WebDriverWait(driver, 10)\n",
        "    job_cards = wait.until(EC.presence_of_all_elements_located((By.CSS_SELECTOR, '.base-search-card')))\n",
        "\n",
        "    for card in job_cards[:1000]:\n",
        "        title = card.find_element(By.CSS_SELECTOR, '.base-search-card__title').text\n",
        "        company = card.find_element(By.CSS_SELECTOR, '.base-search-card__subtitle').text\n",
        "        location = card.find_element(By.CSS_SELECTOR, '.job-search-card__location').text\n",
        "        job_link = card.find_element(By.CSS_SELECTOR, '.base-card__full-link').get_attribute('href')\n",
        "\n",
        "        job_data.append([title, company, location, job_link])\n",
        "\n",
        "except Exception as e:\n",
        "    print(f\"An error occurred: {e}\")\n",
        "finally:\n",
        "    driver.quit()\n",
        "\n",
        "output_file = 'linkedin_jobs.csv'\n",
        "with open(output_file, mode='w', newline='', encoding='utf-8') as file:\n",
        "    writer = csv.writer(file)\n",
        "    writer.writerow(['Job Title', 'Company', 'Location', 'Job Link'])\n",
        "    for job in job_data:\n",
        "        writer.writerow(job)\n",
        "\n",
        "print(f\"{len(job_data)} jobs scraped successfully.\")\n"
      ],
      "metadata": {
        "colab": {
          "base_uri": "https://localhost:8080/"
        },
        "id": "Z8WKSnnP_RFD",
        "outputId": "b64629ee-cca1-4b15-9266-94124c66a1f2"
      },
      "execution_count": 11,
      "outputs": [
        {
          "output_type": "stream",
          "name": "stdout",
          "text": [
            "25 jobs scraped successfully.\n"
          ]
        }
      ]
    },
    {
      "cell_type": "code",
      "source": [
        "import csv\n",
        "\n",
        "# Path to the CSV file\n",
        "output_file = 'linkedin_jobs.csv'\n",
        "\n",
        "# Open the CSV file in read mode\n",
        "with open(output_file, mode='r', newline='', encoding='utf-8') as file:\n",
        "    reader = csv.reader(file)\n",
        "\n",
        "    # Read and print each row\n",
        "    for row in reader:\n",
        "        print(row)\n"
      ],
      "metadata": {
        "id": "2L7dP_NC_7u0",
        "outputId": "bd212e38-53b7-42c3-d428-6bc40ccbdf24",
        "colab": {
          "base_uri": "https://localhost:8080/"
        }
      },
      "execution_count": 9,
      "outputs": [
        {
          "output_type": "stream",
          "name": "stdout",
          "text": [
            "['Job Title', 'Company', 'Location', 'Job Link']\n",
            "['Data analyst intern', 'Flatiron Venture Partners', 'New York, United States', 'https://www.linkedin.com/jobs/view/data-analyst-intern-at-flatiron-venture-partners-3752268023?refId=h0SojHiC6tNdOgQZ7H9RMw%3D%3D&trackingId=anPQiR2VeRin3kv1c6swNA%3D%3D&position=1&pageNum=0&trk=public_jobs_jserp-result_search-card']\n",
            "['Data Scientist', 'CVS Health', 'New York, NY', 'https://www.linkedin.com/jobs/view/data-scientist-at-cvs-health-3746389885?refId=h0SojHiC6tNdOgQZ7H9RMw%3D%3D&trackingId=3vkiX08L0DOucmKCXI15Aw%3D%3D&position=2&pageNum=0&trk=public_jobs_jserp-result_search-card']\n",
            "['Data Analytics Intern', 'Greenlight', 'Atlanta Metropolitan Area', 'https://www.linkedin.com/jobs/view/data-analytics-intern-at-greenlight-3747086779?refId=h0SojHiC6tNdOgQZ7H9RMw%3D%3D&trackingId=ImLZJ%2BuKkO2HeqbY%2FVelYg%3D%3D&position=3&pageNum=0&trk=public_jobs_jserp-result_search-card']\n",
            "['Data Science Internship - Boston, MA', 'Vectra AI', 'Boston, MA', 'https://www.linkedin.com/jobs/view/data-science-internship-boston-ma-at-vectra-ai-3716784280?refId=h0SojHiC6tNdOgQZ7H9RMw%3D%3D&trackingId=IL4bES1661%2F3ZI6RePMF1w%3D%3D&position=4&pageNum=0&trk=public_jobs_jserp-result_search-card']\n",
            "['Data Science Intern', 'Atmosfy', 'United States', 'https://www.linkedin.com/jobs/view/data-science-intern-at-atmosfy-3736198869?refId=h0SojHiC6tNdOgQZ7H9RMw%3D%3D&trackingId=2yZdsS8nKGOry4tOtX2Wdg%3D%3D&position=5&pageNum=0&trk=public_jobs_jserp-result_search-card']\n",
            "['Artificial Intelligence (AI) Intern', 'Lockheed Martin', 'Manassas, VA', 'https://www.linkedin.com/jobs/view/artificial-intelligence-ai-intern-at-lockheed-martin-3748750964?refId=h0SojHiC6tNdOgQZ7H9RMw%3D%3D&trackingId=HhdVwIZpJACLQ8yvRYOVMg%3D%3D&position=6&pageNum=0&trk=public_jobs_jserp-result_search-card']\n",
            "['Artificial Intelligence (AI) Intern', 'Lockheed Martin', 'Manassas, VA', 'https://www.linkedin.com/jobs/view/artificial-intelligence-ai-intern-at-lockheed-martin-3748754352?refId=h0SojHiC6tNdOgQZ7H9RMw%3D%3D&trackingId=dbwc4TtSX4UbyWHpO8mBwQ%3D%3D&position=7&pageNum=0&trk=public_jobs_jserp-result_search-card']\n",
            "['Data Scientist', 'Symposit LLC', 'Washington, DC', 'https://www.linkedin.com/jobs/view/data-scientist-at-symposit-llc-3754426612?refId=h0SojHiC6tNdOgQZ7H9RMw%3D%3D&trackingId=XfOnOdFdiuYmv0P8NbGDfw%3D%3D&position=8&pageNum=0&trk=public_jobs_jserp-result_search-card']\n",
            "['Data Science Intern- Minneapolis Based', 'Sezzle', 'Minneapolis, MN', 'https://www.linkedin.com/jobs/view/data-science-intern-minneapolis-based-at-sezzle-3684189169?refId=h0SojHiC6tNdOgQZ7H9RMw%3D%3D&trackingId=DgtBs2pfLgvY72c%2Bk3QCGA%3D%3D&position=9&pageNum=0&trk=public_jobs_jserp-result_search-card']\n",
            "['Data Science AI/Developer/Python', 'Adame Services', 'Boca Raton, FL', 'https://www.linkedin.com/jobs/view/data-science-ai-developer-python-at-adame-services-3687697052?refId=h0SojHiC6tNdOgQZ7H9RMw%3D%3D&trackingId=MjFzo3tXM5bjffPj8bU%2Bng%3D%3D&position=10&pageNum=0&trk=public_jobs_jserp-result_search-card']\n",
            "['Data Science Scientist', 'Intellectt Inc', 'Durham, NC', 'https://www.linkedin.com/jobs/view/data-science-scientist-at-intellectt-inc-3656796725?refId=h0SojHiC6tNdOgQZ7H9RMw%3D%3D&trackingId=OlLXuh%2Bx8XC3vhpnyM%2BW0g%3D%3D&position=11&pageNum=0&trk=public_jobs_jserp-result_search-card']\n",
            "['Data Analyst/Data science -REMOTE', 'PSRTEK', 'New York, NY', 'https://www.linkedin.com/jobs/view/data-analyst-data-science-remote-at-psrtek-3626317760?refId=h0SojHiC6tNdOgQZ7H9RMw%3D%3D&trackingId=coaAx9HV0asKW9xGMyElXQ%3D%3D&position=12&pageNum=0&trk=public_jobs_jserp-result_search-card']\n",
            "['Machine Learning Engineer', 'Supernormal', 'New York, United States', 'https://www.linkedin.com/jobs/view/machine-learning-engineer-at-supernormal-3754312695?refId=h0SojHiC6tNdOgQZ7H9RMw%3D%3D&trackingId=vh8%2FHjZF99twrIBmRDxHZA%3D%3D&position=13&pageNum=0&trk=public_jobs_jserp-result_search-card']\n",
            "['Data Scientist', 'Ameritas', 'United States', 'https://www.linkedin.com/jobs/view/data-scientist-at-ameritas-3749134037?refId=h0SojHiC6tNdOgQZ7H9RMw%3D%3D&trackingId=LQXRszBFPgnhnq0FYjlRLg%3D%3D&position=14&pageNum=0&trk=public_jobs_jserp-result_search-card']\n",
            "['Junior Data Analyst', 'TechOp Solutions International', 'Washington, DC', 'https://www.linkedin.com/jobs/view/junior-data-analyst-at-techop-solutions-international-3750045545?refId=h0SojHiC6tNdOgQZ7H9RMw%3D%3D&trackingId=BN2MtbC295As%2BDjWXet%2Bzw%3D%3D&position=15&pageNum=0&trk=public_jobs_jserp-result_search-card']\n",
            "['Data Scientist - Marketing Analytics', 'MarketBridge', 'Washington, DC', 'https://www.linkedin.com/jobs/view/data-scientist-marketing-analytics-at-marketbridge-3752271170?refId=h0SojHiC6tNdOgQZ7H9RMw%3D%3D&trackingId=2qdxS8NyaO1Cq%2ByhGmH3qQ%3D%3D&position=16&pageNum=0&trk=public_jobs_jserp-result_search-card']\n",
            "['AI/ML, Data Science, and API Integration Engineer/Scientist', 'Steneral Consulting', 'United States', 'https://www.linkedin.com/jobs/view/ai-ml-data-science-and-api-integration-engineer-scientist-at-steneral-consulting-3686506789?refId=h0SojHiC6tNdOgQZ7H9RMw%3D%3D&trackingId=NZr%2B6mV34TUJyOqGxBrBMw%3D%3D&position=17&pageNum=0&trk=public_jobs_jserp-result_search-card']\n",
            "['Data Science Graduate', 'Hewlett Packard Enterprise', 'Alpharetta, GA', 'https://www.linkedin.com/jobs/view/data-science-graduate-at-hewlett-packard-enterprise-3701773420?refId=h0SojHiC6tNdOgQZ7H9RMw%3D%3D&trackingId=mMw3lySFPXQ7y7y8Iwge5Q%3D%3D&position=18&pageNum=0&trk=public_jobs_jserp-result_search-card']\n",
            "['Data Science Graduate', 'Hewlett Packard Enterprise', 'San Jose, CA', 'https://www.linkedin.com/jobs/view/data-science-graduate-at-hewlett-packard-enterprise-3733016766?refId=h0SojHiC6tNdOgQZ7H9RMw%3D%3D&trackingId=8D4vty7JD8b3OLfpeek6Ew%3D%3D&position=19&pageNum=0&trk=public_jobs_jserp-result_search-card']\n",
            "['Data Science Graduate', 'Hewlett Packard Enterprise', 'Spring, TX', 'https://www.linkedin.com/jobs/view/data-science-graduate-at-hewlett-packard-enterprise-3701772508?refId=h0SojHiC6tNdOgQZ7H9RMw%3D%3D&trackingId=ryL1i4YwrIoze%2FIN%2FpV5uw%3D%3D&position=20&pageNum=0&trk=public_jobs_jserp-result_search-card']\n",
            "['Data Science Graduate', 'Hewlett Packard Enterprise', 'Andover, MA', 'https://www.linkedin.com/jobs/view/data-science-graduate-at-hewlett-packard-enterprise-3701769787?refId=h0SojHiC6tNdOgQZ7H9RMw%3D%3D&trackingId=vhHMRD8m%2FNZ1hSfsVmqw5Q%3D%3D&position=21&pageNum=0&trk=public_jobs_jserp-result_search-card']\n",
            "['Data Scientist', 'STEMBoard', 'Tampa, FL', 'https://www.linkedin.com/jobs/view/data-scientist-at-stemboard-3746740797?refId=h0SojHiC6tNdOgQZ7H9RMw%3D%3D&trackingId=9GKVmMlXVzGLYjdHayjxow%3D%3D&position=22&pageNum=0&trk=public_jobs_jserp-result_search-card']\n",
            "['Data Science Graduate', 'Hewlett Packard Enterprise', 'Roseville, CA', 'https://www.linkedin.com/jobs/view/data-science-graduate-at-hewlett-packard-enterprise-3701769785?refId=h0SojHiC6tNdOgQZ7H9RMw%3D%3D&trackingId=6REyK0FQg2L%2FEK6qBOUn5g%3D%3D&position=23&pageNum=0&trk=public_jobs_jserp-result_search-card']\n",
            "['Junior Product Analyst (Remote)', 'Brighty Careers', 'San Francisco, CA', 'https://www.linkedin.com/jobs/view/junior-product-analyst-remote-at-brighty-careers-3754946213?refId=h0SojHiC6tNdOgQZ7H9RMw%3D%3D&trackingId=AmvtLcyg%2FgqAQgl%2FuAvPjw%3D%3D&position=24&pageNum=0&trk=public_jobs_jserp-result_search-card']\n",
            "['Product/Data Scientists', 'Upwork', 'Canutillo, TX', 'https://www.linkedin.com/jobs/view/product-data-scientists-at-upwork-3747085114?refId=h0SojHiC6tNdOgQZ7H9RMw%3D%3D&trackingId=u1gGc3dX3UPjQ1sA5cP2fg%3D%3D&position=25&pageNum=0&trk=public_jobs_jserp-result_search-card']\n"
          ]
        }
      ]
    },
    {
      "cell_type": "code",
      "source": [
        "job_data"
      ],
      "metadata": {
        "colab": {
          "base_uri": "https://localhost:8080/"
        },
        "id": "JTunHySS_qc0",
        "outputId": "b6f72ade-717a-45ba-9e0d-6f0c1b26b20b"
      },
      "execution_count": 10,
      "outputs": [
        {
          "output_type": "execute_result",
          "data": {
            "text/plain": [
              "[['Data analyst intern',\n",
              "  'Flatiron Venture Partners',\n",
              "  'New York, United States',\n",
              "  'https://www.linkedin.com/jobs/view/data-analyst-intern-at-flatiron-venture-partners-3752268023?refId=h0SojHiC6tNdOgQZ7H9RMw%3D%3D&trackingId=anPQiR2VeRin3kv1c6swNA%3D%3D&position=1&pageNum=0&trk=public_jobs_jserp-result_search-card'],\n",
              " ['Data Scientist',\n",
              "  'CVS Health',\n",
              "  'New York, NY',\n",
              "  'https://www.linkedin.com/jobs/view/data-scientist-at-cvs-health-3746389885?refId=h0SojHiC6tNdOgQZ7H9RMw%3D%3D&trackingId=3vkiX08L0DOucmKCXI15Aw%3D%3D&position=2&pageNum=0&trk=public_jobs_jserp-result_search-card'],\n",
              " ['Data Analytics Intern',\n",
              "  'Greenlight',\n",
              "  'Atlanta Metropolitan Area',\n",
              "  'https://www.linkedin.com/jobs/view/data-analytics-intern-at-greenlight-3747086779?refId=h0SojHiC6tNdOgQZ7H9RMw%3D%3D&trackingId=ImLZJ%2BuKkO2HeqbY%2FVelYg%3D%3D&position=3&pageNum=0&trk=public_jobs_jserp-result_search-card'],\n",
              " ['Data Science Internship - Boston, MA',\n",
              "  'Vectra AI',\n",
              "  'Boston, MA',\n",
              "  'https://www.linkedin.com/jobs/view/data-science-internship-boston-ma-at-vectra-ai-3716784280?refId=h0SojHiC6tNdOgQZ7H9RMw%3D%3D&trackingId=IL4bES1661%2F3ZI6RePMF1w%3D%3D&position=4&pageNum=0&trk=public_jobs_jserp-result_search-card'],\n",
              " ['Data Science Intern',\n",
              "  'Atmosfy',\n",
              "  'United States',\n",
              "  'https://www.linkedin.com/jobs/view/data-science-intern-at-atmosfy-3736198869?refId=h0SojHiC6tNdOgQZ7H9RMw%3D%3D&trackingId=2yZdsS8nKGOry4tOtX2Wdg%3D%3D&position=5&pageNum=0&trk=public_jobs_jserp-result_search-card'],\n",
              " ['Artificial Intelligence (AI) Intern',\n",
              "  'Lockheed Martin',\n",
              "  'Manassas, VA',\n",
              "  'https://www.linkedin.com/jobs/view/artificial-intelligence-ai-intern-at-lockheed-martin-3748750964?refId=h0SojHiC6tNdOgQZ7H9RMw%3D%3D&trackingId=HhdVwIZpJACLQ8yvRYOVMg%3D%3D&position=6&pageNum=0&trk=public_jobs_jserp-result_search-card'],\n",
              " ['Artificial Intelligence (AI) Intern',\n",
              "  'Lockheed Martin',\n",
              "  'Manassas, VA',\n",
              "  'https://www.linkedin.com/jobs/view/artificial-intelligence-ai-intern-at-lockheed-martin-3748754352?refId=h0SojHiC6tNdOgQZ7H9RMw%3D%3D&trackingId=dbwc4TtSX4UbyWHpO8mBwQ%3D%3D&position=7&pageNum=0&trk=public_jobs_jserp-result_search-card'],\n",
              " ['Data Scientist',\n",
              "  'Symposit LLC',\n",
              "  'Washington, DC',\n",
              "  'https://www.linkedin.com/jobs/view/data-scientist-at-symposit-llc-3754426612?refId=h0SojHiC6tNdOgQZ7H9RMw%3D%3D&trackingId=XfOnOdFdiuYmv0P8NbGDfw%3D%3D&position=8&pageNum=0&trk=public_jobs_jserp-result_search-card'],\n",
              " ['Data Science Intern- Minneapolis Based',\n",
              "  'Sezzle',\n",
              "  'Minneapolis, MN',\n",
              "  'https://www.linkedin.com/jobs/view/data-science-intern-minneapolis-based-at-sezzle-3684189169?refId=h0SojHiC6tNdOgQZ7H9RMw%3D%3D&trackingId=DgtBs2pfLgvY72c%2Bk3QCGA%3D%3D&position=9&pageNum=0&trk=public_jobs_jserp-result_search-card'],\n",
              " ['Data Science AI/Developer/Python',\n",
              "  'Adame Services',\n",
              "  'Boca Raton, FL',\n",
              "  'https://www.linkedin.com/jobs/view/data-science-ai-developer-python-at-adame-services-3687697052?refId=h0SojHiC6tNdOgQZ7H9RMw%3D%3D&trackingId=MjFzo3tXM5bjffPj8bU%2Bng%3D%3D&position=10&pageNum=0&trk=public_jobs_jserp-result_search-card'],\n",
              " ['Data Science Scientist',\n",
              "  'Intellectt Inc',\n",
              "  'Durham, NC',\n",
              "  'https://www.linkedin.com/jobs/view/data-science-scientist-at-intellectt-inc-3656796725?refId=h0SojHiC6tNdOgQZ7H9RMw%3D%3D&trackingId=OlLXuh%2Bx8XC3vhpnyM%2BW0g%3D%3D&position=11&pageNum=0&trk=public_jobs_jserp-result_search-card'],\n",
              " ['Data Analyst/Data science -REMOTE',\n",
              "  'PSRTEK',\n",
              "  'New York, NY',\n",
              "  'https://www.linkedin.com/jobs/view/data-analyst-data-science-remote-at-psrtek-3626317760?refId=h0SojHiC6tNdOgQZ7H9RMw%3D%3D&trackingId=coaAx9HV0asKW9xGMyElXQ%3D%3D&position=12&pageNum=0&trk=public_jobs_jserp-result_search-card'],\n",
              " ['Machine Learning Engineer',\n",
              "  'Supernormal',\n",
              "  'New York, United States',\n",
              "  'https://www.linkedin.com/jobs/view/machine-learning-engineer-at-supernormal-3754312695?refId=h0SojHiC6tNdOgQZ7H9RMw%3D%3D&trackingId=vh8%2FHjZF99twrIBmRDxHZA%3D%3D&position=13&pageNum=0&trk=public_jobs_jserp-result_search-card'],\n",
              " ['Data Scientist',\n",
              "  'Ameritas',\n",
              "  'United States',\n",
              "  'https://www.linkedin.com/jobs/view/data-scientist-at-ameritas-3749134037?refId=h0SojHiC6tNdOgQZ7H9RMw%3D%3D&trackingId=LQXRszBFPgnhnq0FYjlRLg%3D%3D&position=14&pageNum=0&trk=public_jobs_jserp-result_search-card'],\n",
              " ['Junior Data Analyst',\n",
              "  'TechOp Solutions International',\n",
              "  'Washington, DC',\n",
              "  'https://www.linkedin.com/jobs/view/junior-data-analyst-at-techop-solutions-international-3750045545?refId=h0SojHiC6tNdOgQZ7H9RMw%3D%3D&trackingId=BN2MtbC295As%2BDjWXet%2Bzw%3D%3D&position=15&pageNum=0&trk=public_jobs_jserp-result_search-card'],\n",
              " ['Data Scientist - Marketing Analytics',\n",
              "  'MarketBridge',\n",
              "  'Washington, DC',\n",
              "  'https://www.linkedin.com/jobs/view/data-scientist-marketing-analytics-at-marketbridge-3752271170?refId=h0SojHiC6tNdOgQZ7H9RMw%3D%3D&trackingId=2qdxS8NyaO1Cq%2ByhGmH3qQ%3D%3D&position=16&pageNum=0&trk=public_jobs_jserp-result_search-card'],\n",
              " ['AI/ML, Data Science, and API Integration Engineer/Scientist',\n",
              "  'Steneral Consulting',\n",
              "  'United States',\n",
              "  'https://www.linkedin.com/jobs/view/ai-ml-data-science-and-api-integration-engineer-scientist-at-steneral-consulting-3686506789?refId=h0SojHiC6tNdOgQZ7H9RMw%3D%3D&trackingId=NZr%2B6mV34TUJyOqGxBrBMw%3D%3D&position=17&pageNum=0&trk=public_jobs_jserp-result_search-card'],\n",
              " ['Data Science Graduate',\n",
              "  'Hewlett Packard Enterprise',\n",
              "  'Alpharetta, GA',\n",
              "  'https://www.linkedin.com/jobs/view/data-science-graduate-at-hewlett-packard-enterprise-3701773420?refId=h0SojHiC6tNdOgQZ7H9RMw%3D%3D&trackingId=mMw3lySFPXQ7y7y8Iwge5Q%3D%3D&position=18&pageNum=0&trk=public_jobs_jserp-result_search-card'],\n",
              " ['Data Science Graduate',\n",
              "  'Hewlett Packard Enterprise',\n",
              "  'San Jose, CA',\n",
              "  'https://www.linkedin.com/jobs/view/data-science-graduate-at-hewlett-packard-enterprise-3733016766?refId=h0SojHiC6tNdOgQZ7H9RMw%3D%3D&trackingId=8D4vty7JD8b3OLfpeek6Ew%3D%3D&position=19&pageNum=0&trk=public_jobs_jserp-result_search-card'],\n",
              " ['Data Science Graduate',\n",
              "  'Hewlett Packard Enterprise',\n",
              "  'Spring, TX',\n",
              "  'https://www.linkedin.com/jobs/view/data-science-graduate-at-hewlett-packard-enterprise-3701772508?refId=h0SojHiC6tNdOgQZ7H9RMw%3D%3D&trackingId=ryL1i4YwrIoze%2FIN%2FpV5uw%3D%3D&position=20&pageNum=0&trk=public_jobs_jserp-result_search-card'],\n",
              " ['Data Science Graduate',\n",
              "  'Hewlett Packard Enterprise',\n",
              "  'Andover, MA',\n",
              "  'https://www.linkedin.com/jobs/view/data-science-graduate-at-hewlett-packard-enterprise-3701769787?refId=h0SojHiC6tNdOgQZ7H9RMw%3D%3D&trackingId=vhHMRD8m%2FNZ1hSfsVmqw5Q%3D%3D&position=21&pageNum=0&trk=public_jobs_jserp-result_search-card'],\n",
              " ['Data Scientist',\n",
              "  'STEMBoard',\n",
              "  'Tampa, FL',\n",
              "  'https://www.linkedin.com/jobs/view/data-scientist-at-stemboard-3746740797?refId=h0SojHiC6tNdOgQZ7H9RMw%3D%3D&trackingId=9GKVmMlXVzGLYjdHayjxow%3D%3D&position=22&pageNum=0&trk=public_jobs_jserp-result_search-card'],\n",
              " ['Data Science Graduate',\n",
              "  'Hewlett Packard Enterprise',\n",
              "  'Roseville, CA',\n",
              "  'https://www.linkedin.com/jobs/view/data-science-graduate-at-hewlett-packard-enterprise-3701769785?refId=h0SojHiC6tNdOgQZ7H9RMw%3D%3D&trackingId=6REyK0FQg2L%2FEK6qBOUn5g%3D%3D&position=23&pageNum=0&trk=public_jobs_jserp-result_search-card'],\n",
              " ['Junior Product Analyst (Remote)',\n",
              "  'Brighty Careers',\n",
              "  'San Francisco, CA',\n",
              "  'https://www.linkedin.com/jobs/view/junior-product-analyst-remote-at-brighty-careers-3754946213?refId=h0SojHiC6tNdOgQZ7H9RMw%3D%3D&trackingId=AmvtLcyg%2FgqAQgl%2FuAvPjw%3D%3D&position=24&pageNum=0&trk=public_jobs_jserp-result_search-card'],\n",
              " ['Product/Data Scientists',\n",
              "  'Upwork',\n",
              "  'Canutillo, TX',\n",
              "  'https://www.linkedin.com/jobs/view/product-data-scientists-at-upwork-3747085114?refId=h0SojHiC6tNdOgQZ7H9RMw%3D%3D&trackingId=u1gGc3dX3UPjQ1sA5cP2fg%3D%3D&position=25&pageNum=0&trk=public_jobs_jserp-result_search-card']]"
            ]
          },
          "metadata": {},
          "execution_count": 10
        }
      ]
    }
  ]
}